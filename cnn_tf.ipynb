{
 "cells": [
  {
   "cell_type": "code",
   "execution_count": 8,
   "metadata": {},
   "outputs": [],
   "source": [
    "import numpy as np\n",
    "from matplotlib import pyplot as plt  \n",
    "from tensorflow import keras\n",
    "from keras.utils.np_utils import to_categorical  \n",
    "from keras.models import Sequential  \n",
    "from keras.layers.core import Dense,Dropout,Flatten  \n",
    "from keras.layers import Conv2D  \n",
    "from keras.optimizers import Adam  \n",
    "from keras.datasets import mnist  \n",
    "\n",
    "\n"
   ]
  },
  {
   "cell_type": "code",
   "execution_count": 10,
   "metadata": {},
   "outputs": [],
   "source": [
    "(X_train,y_train),(X_test,y_test) = mnist.load_data()\n",
    "img_rows,img_cols = X_train[0].shape[0],X_train[0].shape[1]\n",
    "X_train = X_train.reshape(X_train.shape[0],img_rows,img_cols,1)\n",
    "X_test = X_test.reshape(X_test.shape[0],img_rows,img_cols,1)\n",
    "input_shape = (img_rows,img_cols,1)\n",
    "\n",
    "X_train = X_train.astype('float32')/255.\n",
    "X_test= X_test.astype('float32')/255.\n",
    "\n",
    "n_classes =  len(set(y_train))\n",
    "y_train = to_categorical(y_train,n_classes)\n",
    "y_test = to_categorical(y_test,n_classes)"
   ]
  },
  {
   "cell_type": "code",
   "execution_count": 15,
   "metadata": {},
   "outputs": [
    {
     "name": "stdout",
     "output_type": "stream",
     "text": [
      "Epoch 1/11\n",
      "375/375 [==============================] - ETA: 0s - loss: 0.2162 - accuracy: 0.9338WARNING:tensorflow:Early stopping conditioned on metric `val_acc` which is not available. Available metrics are: loss,accuracy,val_loss,val_accuracy\n",
      "375/375 [==============================] - 380s 1s/step - loss: 0.2162 - accuracy: 0.9338 - val_loss: 0.0564 - val_accuracy: 0.9842\n",
      "Epoch 2/11\n",
      "375/375 [==============================] - ETA: 0s - loss: 0.0794 - accuracy: 0.9760WARNING:tensorflow:Early stopping conditioned on metric `val_acc` which is not available. Available metrics are: loss,accuracy,val_loss,val_accuracy\n",
      "375/375 [==============================] - 457s 1s/step - loss: 0.0794 - accuracy: 0.9760 - val_loss: 0.0406 - val_accuracy: 0.9883\n",
      "Epoch 3/11\n",
      "375/375 [==============================] - ETA: 0s - loss: 0.0580 - accuracy: 0.9817WARNING:tensorflow:Early stopping conditioned on metric `val_acc` which is not available. Available metrics are: loss,accuracy,val_loss,val_accuracy\n",
      "375/375 [==============================] - 418s 1s/step - loss: 0.0580 - accuracy: 0.9817 - val_loss: 0.0404 - val_accuracy: 0.9886\n",
      "Epoch 4/11\n",
      "375/375 [==============================] - ETA: 0s - loss: 0.0455 - accuracy: 0.9868WARNING:tensorflow:Early stopping conditioned on metric `val_acc` which is not available. Available metrics are: loss,accuracy,val_loss,val_accuracy\n",
      "375/375 [==============================] - 452s 1s/step - loss: 0.0455 - accuracy: 0.9868 - val_loss: 0.0407 - val_accuracy: 0.9903\n",
      "Epoch 5/11\n",
      "375/375 [==============================] - ETA: 0s - loss: 0.0372 - accuracy: 0.9880WARNING:tensorflow:Early stopping conditioned on metric `val_acc` which is not available. Available metrics are: loss,accuracy,val_loss,val_accuracy\n",
      "375/375 [==============================] - 514s 1s/step - loss: 0.0372 - accuracy: 0.9880 - val_loss: 0.0426 - val_accuracy: 0.9881\n",
      "Epoch 6/11\n",
      "375/375 [==============================] - ETA: 0s - loss: 0.0320 - accuracy: 0.9900WARNING:tensorflow:Early stopping conditioned on metric `val_acc` which is not available. Available metrics are: loss,accuracy,val_loss,val_accuracy\n",
      "375/375 [==============================] - 516s 1s/step - loss: 0.0320 - accuracy: 0.9900 - val_loss: 0.0356 - val_accuracy: 0.9905\n",
      "Epoch 7/11\n",
      "375/375 [==============================] - ETA: 0s - loss: 0.0287 - accuracy: 0.9911WARNING:tensorflow:Early stopping conditioned on metric `val_acc` which is not available. Available metrics are: loss,accuracy,val_loss,val_accuracy\n",
      "375/375 [==============================] - 475s 1s/step - loss: 0.0287 - accuracy: 0.9911 - val_loss: 0.0428 - val_accuracy: 0.9908\n",
      "Epoch 8/11\n",
      "375/375 [==============================] - ETA: 0s - loss: 0.0254 - accuracy: 0.9918WARNING:tensorflow:Early stopping conditioned on metric `val_acc` which is not available. Available metrics are: loss,accuracy,val_loss,val_accuracy\n",
      "375/375 [==============================] - 429s 1s/step - loss: 0.0254 - accuracy: 0.9918 - val_loss: 0.0353 - val_accuracy: 0.9917\n",
      "Epoch 9/11\n",
      "375/375 [==============================] - ETA: 0s - loss: 0.0217 - accuracy: 0.9932WARNING:tensorflow:Early stopping conditioned on metric `val_acc` which is not available. Available metrics are: loss,accuracy,val_loss,val_accuracy\n",
      "375/375 [==============================] - 414s 1s/step - loss: 0.0217 - accuracy: 0.9932 - val_loss: 0.0347 - val_accuracy: 0.9911\n",
      "Epoch 10/11\n",
      "375/375 [==============================] - ETA: 0s - loss: 0.0205 - accuracy: 0.9932WARNING:tensorflow:Early stopping conditioned on metric `val_acc` which is not available. Available metrics are: loss,accuracy,val_loss,val_accuracy\n",
      "375/375 [==============================] - 441s 1s/step - loss: 0.0205 - accuracy: 0.9932 - val_loss: 0.0404 - val_accuracy: 0.9905\n",
      "Epoch 11/11\n",
      "375/375 [==============================] - ETA: 0s - loss: 0.0180 - accuracy: 0.9939WARNING:tensorflow:Early stopping conditioned on metric `val_acc` which is not available. Available metrics are: loss,accuracy,val_loss,val_accuracy\n",
      "375/375 [==============================] - 494s 1s/step - loss: 0.0180 - accuracy: 0.9939 - val_loss: 0.0393 - val_accuracy: 0.9903\n"
     ]
    },
    {
     "data": {
      "text/plain": [
       "<keras.callbacks.History at 0x1db16329ee0>"
      ]
     },
     "execution_count": 15,
     "metadata": {},
     "output_type": "execute_result"
    }
   ],
   "source": [
    "model = Sequential([\n",
    "    \n",
    "    Conv2D(32,kernel_size=(3,3),activation='relu',input_shape=input_shape),\n",
    "    Conv2D(64,kernel_size=(3,3),activation='relu'),\n",
    "    Conv2D(128,kernel_size=(3,3),activation='relu'),\n",
    "    Dropout(0.5),\n",
    "    Flatten(),\n",
    "    Dense(128,activation='relu'),\n",
    "    Dropout(0.5),\n",
    "    Dense(n_classes,activation='softmax')\n",
    "    \n",
    "\n",
    "])\n",
    "model.compile(loss='categorical_crossentropy',optimizer=Adam(),\n",
    "                  metrics=['accuracy'])\n",
    "callbacks = keras.callbacks.EarlyStopping(monitor='val_acc',patience=5)\n",
    "model.fit(X_train,y_train,batch_size=128,epochs=11,verbose=1,validation_split=0.2,\n",
    "          callbacks= callbacks )"
   ]
  },
  {
   "cell_type": "code",
   "execution_count": 16,
   "metadata": {},
   "outputs": [
    {
     "name": "stdout",
     "output_type": "stream",
     "text": [
      "Test loss: 0.03471442312002182\n",
      "Test accuracy: 0.9900000095367432\n",
      "313/313 [==============================] - 31s 97ms/step\n"
     ]
    },
    {
     "data": {
      "image/png": "[encoded data removed]",
      "text/plain": [
       "<Figure size 1500x1500 with 10 Axes>"
      ]
     },
     "metadata": {},
     "output_type": "display_data"
    }
   ],
   "source": [
    "score = model.evaluate(X_test,y_test,verbose=0)\n",
    "print('Test loss:',score[0])\n",
    "print('Test accuracy:',score[1])\n",
    "\n",
    "preds = model.predict(X_test)\n",
    "\n",
    "n_examples = 10\n",
    "plt.figure(figsize=(15,15))\n",
    "for i in range(n_examples):\n",
    "    ax = plt.subplot(2,n_examples,i+1)\n",
    "    plt.imshow(X_test[i,:,:,0],cmap='gray')\n",
    "    plt.title(\"Label: {}\\nPredicted:{}\".format(np.argmax(y_test[i]),np.argmax(preds[i])))\n",
    "    plt.axis('off')\n",
    "plt.show()"
   ]
  }
 ],
 "metadata": {
  "kernelspec": {
   "display_name": "tensorflow",
   "language": "python",
   "name": "python3"
  },
  "language_info": {
   "codemirror_mode": {
    "name": "ipython",
    "version": 3
   },
   "file_extension": ".py",
   "mimetype": "text/x-python",
   "name": "python",
   "nbconvert_exporter": "python",
   "pygments_lexer": "ipython3",
   "version": "3.9.16"
  },
  "orig_nbformat": 4
 },
 "nbformat": 4,
 "nbformat_minor": 2
}
