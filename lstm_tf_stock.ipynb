{
 "cells": [
  {
   "cell_type": "code",
   "execution_count": 1,
   "metadata": {
    "ExecutionIndicator": {
     "show": true
    },
    "execution": {
     "iopub.execute_input": "2023-05-16T12:40:49.402602Z",
     "iopub.status.busy": "2023-05-16T12:40:49.402033Z",
     "iopub.status.idle": "2023-05-16T12:40:52.179014Z",
     "shell.execute_reply": "2023-05-16T12:40:52.178117Z",
     "shell.execute_reply.started": "2023-05-16T12:40:49.402570Z"
    },
    "tags": []
   },
   "outputs": [
    {
     "name": "stderr",
     "output_type": "stream",
     "text": [
      "2023-05-16 20:40:50.571213: I tensorflow/core/platform/cpu_feature_guard.cc:193] This TensorFlow binary is optimized with oneAPI Deep Neural Network Library (oneDNN) to use the following CPU instructions in performance-critical operations:  AVX2 AVX512F AVX512_VNNI FMA\n",
      "To enable them in other operations, rebuild TensorFlow with the appropriate compiler flags.\n",
      "2023-05-16 20:40:50.701677: I tensorflow/core/util/port.cc:104] oneDNN custom operations are on. You may see slightly different numerical results due to floating-point round-off errors from different computation orders. To turn them off, set the environment variable `TF_ENABLE_ONEDNN_OPTS=0`.\n"
     ]
    }
   ],
   "source": [
    "import matplotlib.pyplot as plt   \n",
    "import numpy as np   \n",
    "import pandas as pd \n",
    "from sklearn.preprocessing import MinMaxScaler\n",
    "from tensorflow import keras\n",
    "\n",
    "from keras.layers.core import Dense,Activation,Dropout\n",
    "from keras.layers import LSTM \n",
    "from keras.models import Sequential"
   ]
  },
  {
   "cell_type": "code",
   "execution_count": 2,
   "metadata": {
    "ExecutionIndicator": {
     "show": true
    },
    "execution": {
     "iopub.execute_input": "2023-05-16T12:40:52.181173Z",
     "iopub.status.busy": "2023-05-16T12:40:52.180032Z",
     "iopub.status.idle": "2023-05-16T12:40:52.199821Z",
     "shell.execute_reply": "2023-05-16T12:40:52.198970Z",
     "shell.execute_reply.started": "2023-05-16T12:40:52.181145Z"
    },
    "tags": []
   },
   "outputs": [
    {
     "data": {
      "text/html": [
       "<div>\n",
       "<style scoped>\n",
       "    .dataframe tbody tr th:only-of-type {\n",
       "        vertical-align: middle;\n",
       "    }\n",
       "\n",
       "    .dataframe tbody tr th {\n",
       "        vertical-align: top;\n",
       "    }\n",
       "\n",
       "    .dataframe thead th {\n",
       "        text-align: right;\n",
       "    }\n",
       "</style>\n",
       "<table border=\"1\" class=\"dataframe\">\n",
       "  <thead>\n",
       "    <tr style=\"text-align: right;\">\n",
       "      <th></th>\n",
       "      <th>Open</th>\n",
       "      <th>High</th>\n",
       "      <th>Low</th>\n",
       "      <th>Volume</th>\n",
       "      <th>Close</th>\n",
       "    </tr>\n",
       "  </thead>\n",
       "  <tbody>\n",
       "    <tr>\n",
       "      <th>0</th>\n",
       "      <td>7832.580078</td>\n",
       "      <td>7946.229980</td>\n",
       "      <td>7826.669922</td>\n",
       "      <td>2168720000</td>\n",
       "      <td>7898.049805</td>\n",
       "    </tr>\n",
       "    <tr>\n",
       "      <th>1</th>\n",
       "      <td>7829.029785</td>\n",
       "      <td>7918.709961</td>\n",
       "      <td>7810.350098</td>\n",
       "      <td>2176380000</td>\n",
       "      <td>7816.279785</td>\n",
       "    </tr>\n",
       "    <tr>\n",
       "      <th>2</th>\n",
       "      <td>7714.060059</td>\n",
       "      <td>7747.270020</td>\n",
       "      <td>7678.350098</td>\n",
       "      <td>2130700000</td>\n",
       "      <td>7702.379883</td>\n",
       "    </tr>\n",
       "    <tr>\n",
       "      <th>3</th>\n",
       "      <td>7765.569824</td>\n",
       "      <td>7804.439941</td>\n",
       "      <td>7752.919922</td>\n",
       "      <td>2000130000</td>\n",
       "      <td>7785.720215</td>\n",
       "    </tr>\n",
       "    <tr>\n",
       "      <th>4</th>\n",
       "      <td>7749.799805</td>\n",
       "      <td>7786.330078</td>\n",
       "      <td>7738.350098</td>\n",
       "      <td>1884660000</td>\n",
       "      <td>7750.839844</td>\n",
       "    </tr>\n",
       "  </tbody>\n",
       "</table>\n",
       "</div>"
      ],
      "text/plain": [
       "          Open         High          Low      Volume        Close\n",
       "0  7832.580078  7946.229980  7826.669922  2168720000  7898.049805\n",
       "1  7829.029785  7918.709961  7810.350098  2176380000  7816.279785\n",
       "2  7714.060059  7747.270020  7678.350098  2130700000  7702.379883\n",
       "3  7765.569824  7804.439941  7752.919922  2000130000  7785.720215\n",
       "4  7749.799805  7786.330078  7738.350098  1884660000  7750.839844"
      ]
     },
     "execution_count": 2,
     "metadata": {},
     "output_type": "execute_result"
    }
   ],
   "source": [
    "data = pd.read_csv('stock1.csv')\n",
    "data = data[['Open','High','Low','Volume','Close']]\n",
    "data.head()"
   ]
  },
  {
   "cell_type": "code",
   "execution_count": 3,
   "metadata": {
    "execution": {
     "iopub.execute_input": "2023-05-16T12:40:52.202010Z",
     "iopub.status.busy": "2023-05-16T12:40:52.200784Z",
     "iopub.status.idle": "2023-05-16T12:40:52.206085Z",
     "shell.execute_reply": "2023-05-16T12:40:52.205256Z",
     "shell.execute_reply.started": "2023-05-16T12:40:52.201987Z"
    },
    "tags": []
   },
   "outputs": [],
   "source": [
    "sequence_length = 21\n",
    "n_features = len(data.columns)\n",
    "val_ratio = 0.1\n",
    "n_epochs = 300\n",
    "batch_size = 512"
   ]
  },
  {
   "cell_type": "code",
   "execution_count": 4,
   "metadata": {
    "ExecutionIndicator": {
     "show": true
    },
    "execution": {
     "iopub.execute_input": "2023-05-16T12:40:52.208372Z",
     "iopub.status.busy": "2023-05-16T12:40:52.207879Z",
     "iopub.status.idle": "2023-05-16T12:40:52.216532Z",
     "shell.execute_reply": "2023-05-16T12:40:52.215744Z",
     "shell.execute_reply.started": "2023-05-16T12:40:52.208348Z"
    },
    "tags": []
   },
   "outputs": [],
   "source": [
    "data = data.iloc[:,:].values\n",
    "data_processed = []\n",
    "for index in range(len(data)-sequence_length):\n",
    "    data_processed.append(data[index:index+sequence_length])\n",
    "data_processed = np.array(data_processed)"
   ]
  },
  {
   "cell_type": "code",
   "execution_count": 5,
   "metadata": {
    "execution": {
     "iopub.execute_input": "2023-05-16T12:40:52.217885Z",
     "iopub.status.busy": "2023-05-16T12:40:52.217568Z",
     "iopub.status.idle": "2023-05-16T12:40:52.225610Z",
     "shell.execute_reply": "2023-05-16T12:40:52.224192Z",
     "shell.execute_reply.started": "2023-05-16T12:40:52.217858Z"
    },
    "tags": []
   },
   "outputs": [
    {
     "name": "stdout",
     "output_type": "stream",
     "text": [
      "Training data:(662, 21, 5)\n",
      "vali data:(73, 21, 5)\n"
     ]
    }
   ],
   "source": [
    "val_split  = round((1-val_ratio)*data_processed.shape[0])\n",
    "train = data_processed[:int(val_split),:]\n",
    "val = data_processed[int(val_split):,:]\n",
    "print('Training data:{}'.format(train.shape))\n",
    "print('vali data:{}'.format(val.shape))"
   ]
  },
  {
   "cell_type": "code",
   "execution_count": 6,
   "metadata": {
    "execution": {
     "iopub.execute_input": "2023-05-16T12:40:52.226683Z",
     "iopub.status.busy": "2023-05-16T12:40:52.226362Z",
     "iopub.status.idle": "2023-05-16T12:40:52.235498Z",
     "shell.execute_reply": "2023-05-16T12:40:52.234436Z",
     "shell.execute_reply.started": "2023-05-16T12:40:52.226655Z"
    },
    "tags": []
   },
   "outputs": [],
   "source": [
    "train_samples, train_nx, train_ny = train.shape\n",
    "val_samples, val_nx, val_ny = val.shape\n",
    "\n",
    "train = train.reshape((train_samples, train_nx * train_ny))\n",
    "val = val.reshape((val_samples, val_nx * val_ny))\n",
    "\n",
    "preprocessor = MinMaxScaler().fit(train)\n",
    "train = preprocessor.transform(train)\n",
    "val = preprocessor.transform(val)\n",
    "\n",
    "train = train.reshape((train_samples, train_nx, train_ny))\n",
    "val = val.reshape((val_samples, val_nx, val_ny))"
   ]
  },
  {
   "cell_type": "code",
   "execution_count": 7,
   "metadata": {
    "execution": {
     "iopub.execute_input": "2023-05-16T12:40:52.236965Z",
     "iopub.status.busy": "2023-05-16T12:40:52.236498Z",
     "iopub.status.idle": "2023-05-16T12:40:52.242545Z",
     "shell.execute_reply": "2023-05-16T12:40:52.241512Z",
     "shell.execute_reply.started": "2023-05-16T12:40:52.236943Z"
    },
    "tags": []
   },
   "outputs": [],
   "source": [
    "X_train = train[:, : -1]\n",
    "y_train = train[:, -1][: ,-1]\n",
    "X_val = val[:, : -1]\n",
    "y_val = val[:, -1][ : ,-1]\n",
    "\n",
    "X_train = np.reshape(X_train, (X_train.shape[0], X_train.shape[1], n_features))\n",
    "X_val = np.reshape(X_val, (X_val.shape[0], X_val.shape[1], n_features))"
   ]
  },
  {
   "cell_type": "code",
   "execution_count": null,
   "metadata": {
    "ExecutionIndicator": {
     "show": true
    },
    "execution": {
     "iopub.execute_input": "2023-05-16T12:40:52.243667Z",
     "iopub.status.busy": "2023-05-16T12:40:52.243345Z"
    },
    "tags": []
   },
   "outputs": [
    {
     "name": "stderr",
     "output_type": "stream",
     "text": [
      "2023-05-16 20:40:52.257617: I tensorflow/core/platform/cpu_feature_guard.cc:193] This TensorFlow binary is optimized with oneAPI Deep Neural Network Library (oneDNN) to use the following CPU instructions in performance-critical operations:  AVX2 AVX512F AVX512_VNNI FMA\n",
      "To enable them in other operations, rebuild TensorFlow with the appropriate compiler flags.\n"
     ]
    },
    {
     "name": "stdout",
     "output_type": "stream",
     "text": [
      "Epoch 1/300\n",
      "2/2 - 4s - loss: 0.2844 - 4s/epoch - 2s/step\n",
      "Epoch 2/300\n",
      "2/2 - 0s - loss: 0.0225 - 227ms/epoch - 114ms/step\n",
      "Epoch 3/300\n",
      "2/2 - 0s - loss: 0.0562 - 224ms/epoch - 112ms/step\n",
      "Epoch 4/300\n",
      "2/2 - 0s - loss: 0.0077 - 235ms/epoch - 118ms/step\n",
      "Epoch 5/300\n",
      "2/2 - 0s - loss: 0.0229 - 233ms/epoch - 116ms/step\n",
      "Epoch 6/300\n",
      "2/2 - 0s - loss: 0.0282 - 226ms/epoch - 113ms/step\n",
      "Epoch 7/300\n",
      "2/2 - 0s - loss: 0.0164 - 223ms/epoch - 111ms/step\n",
      "Epoch 8/300\n",
      "2/2 - 0s - loss: 0.0068 - 255ms/epoch - 127ms/step\n",
      "Epoch 9/300\n",
      "2/2 - 0s - loss: 0.0097 - 237ms/epoch - 119ms/step\n",
      "Epoch 10/300\n",
      "2/2 - 0s - loss: 0.0129 - 226ms/epoch - 113ms/step\n",
      "Epoch 11/300\n",
      "2/2 - 0s - loss: 0.0084 - 222ms/epoch - 111ms/step\n",
      "Epoch 12/300\n",
      "2/2 - 0s - loss: 0.0053 - 224ms/epoch - 112ms/step\n",
      "Epoch 13/300\n",
      "2/2 - 0s - loss: 0.0066 - 224ms/epoch - 112ms/step\n",
      "Epoch 14/300\n",
      "2/2 - 0s - loss: 0.0076 - 228ms/epoch - 114ms/step\n",
      "Epoch 15/300\n",
      "2/2 - 0s - loss: 0.0072 - 223ms/epoch - 112ms/step\n",
      "Epoch 16/300\n",
      "2/2 - 0s - loss: 0.0053 - 225ms/epoch - 113ms/step\n",
      "Epoch 17/300\n",
      "2/2 - 0s - loss: 0.0052 - 229ms/epoch - 115ms/step\n",
      "Epoch 18/300\n",
      "2/2 - 0s - loss: 0.0057 - 230ms/epoch - 115ms/step\n",
      "Epoch 19/300\n",
      "2/2 - 0s - loss: 0.0057 - 227ms/epoch - 113ms/step\n",
      "Epoch 20/300\n",
      "2/2 - 0s - loss: 0.0040 - 228ms/epoch - 114ms/step\n",
      "Epoch 21/300\n",
      "2/2 - 0s - loss: 0.0040 - 248ms/epoch - 124ms/step\n",
      "Epoch 22/300\n",
      "2/2 - 0s - loss: 0.0041 - 241ms/epoch - 121ms/step\n",
      "Epoch 23/300\n",
      "2/2 - 0s - loss: 0.0041 - 223ms/epoch - 112ms/step\n",
      "Epoch 24/300\n",
      "2/2 - 0s - loss: 0.0041 - 232ms/epoch - 116ms/step\n",
      "Epoch 25/300\n",
      "2/2 - 0s - loss: 0.0041 - 230ms/epoch - 115ms/step\n",
      "Epoch 26/300\n",
      "2/2 - 0s - loss: 0.0039 - 225ms/epoch - 112ms/step\n",
      "Epoch 27/300\n",
      "2/2 - 0s - loss: 0.0039 - 236ms/epoch - 118ms/step\n",
      "Epoch 28/300\n",
      "2/2 - 0s - loss: 0.0034 - 225ms/epoch - 113ms/step\n",
      "Epoch 29/300\n",
      "2/2 - 0s - loss: 0.0034 - 225ms/epoch - 113ms/step\n",
      "Epoch 30/300\n",
      "2/2 - 0s - loss: 0.0033 - 222ms/epoch - 111ms/step\n",
      "Epoch 31/300\n",
      "2/2 - 0s - loss: 0.0034 - 240ms/epoch - 120ms/step\n",
      "Epoch 32/300\n",
      "2/2 - 0s - loss: 0.0037 - 269ms/epoch - 134ms/step\n",
      "Epoch 33/300\n",
      "2/2 - 0s - loss: 0.0034 - 248ms/epoch - 124ms/step\n",
      "Epoch 34/300\n",
      "2/2 - 0s - loss: 0.0038 - 225ms/epoch - 113ms/step\n",
      "Epoch 35/300\n",
      "2/2 - 0s - loss: 0.0037 - 245ms/epoch - 123ms/step\n",
      "Epoch 36/300\n",
      "2/2 - 0s - loss: 0.0034 - 236ms/epoch - 118ms/step\n",
      "Epoch 37/300\n",
      "2/2 - 0s - loss: 0.0035 - 228ms/epoch - 114ms/step\n",
      "Epoch 38/300\n",
      "2/2 - 0s - loss: 0.0035 - 230ms/epoch - 115ms/step\n",
      "Epoch 39/300\n",
      "2/2 - 0s - loss: 0.0038 - 243ms/epoch - 121ms/step\n",
      "Epoch 40/300\n",
      "2/2 - 0s - loss: 0.0036 - 230ms/epoch - 115ms/step\n",
      "Epoch 41/300\n",
      "2/2 - 0s - loss: 0.0035 - 284ms/epoch - 142ms/step\n",
      "Epoch 42/300\n",
      "2/2 - 0s - loss: 0.0036 - 289ms/epoch - 144ms/step\n",
      "Epoch 43/300\n",
      "2/2 - 0s - loss: 0.0034 - 277ms/epoch - 139ms/step\n",
      "Epoch 44/300\n",
      "2/2 - 0s - loss: 0.0036 - 232ms/epoch - 116ms/step\n",
      "Epoch 45/300\n",
      "2/2 - 0s - loss: 0.0035 - 226ms/epoch - 113ms/step\n",
      "Epoch 46/300\n",
      "2/2 - 0s - loss: 0.0036 - 236ms/epoch - 118ms/step\n",
      "Epoch 47/300\n",
      "2/2 - 0s - loss: 0.0036 - 225ms/epoch - 113ms/step\n",
      "Epoch 48/300\n",
      "2/2 - 0s - loss: 0.0032 - 226ms/epoch - 113ms/step\n",
      "Epoch 49/300\n",
      "2/2 - 0s - loss: 0.0032 - 225ms/epoch - 112ms/step\n",
      "Epoch 50/300\n",
      "2/2 - 0s - loss: 0.0035 - 228ms/epoch - 114ms/step\n",
      "Epoch 51/300\n",
      "2/2 - 0s - loss: 0.0038 - 264ms/epoch - 132ms/step\n",
      "Epoch 52/300\n",
      "2/2 - 0s - loss: 0.0033 - 237ms/epoch - 119ms/step\n",
      "Epoch 53/300\n",
      "2/2 - 0s - loss: 0.0032 - 221ms/epoch - 111ms/step\n",
      "Epoch 54/300\n",
      "2/2 - 0s - loss: 0.0032 - 226ms/epoch - 113ms/step\n",
      "Epoch 55/300\n",
      "2/2 - 0s - loss: 0.0035 - 232ms/epoch - 116ms/step\n",
      "Epoch 56/300\n",
      "2/2 - 0s - loss: 0.0034 - 243ms/epoch - 121ms/step\n",
      "Epoch 57/300\n",
      "2/2 - 0s - loss: 0.0033 - 230ms/epoch - 115ms/step\n",
      "Epoch 58/300\n",
      "2/2 - 0s - loss: 0.0031 - 242ms/epoch - 121ms/step\n",
      "Epoch 59/300\n",
      "2/2 - 0s - loss: 0.0034 - 228ms/epoch - 114ms/step\n",
      "Epoch 60/300\n",
      "2/2 - 0s - loss: 0.0032 - 227ms/epoch - 113ms/step\n",
      "Epoch 61/300\n",
      "2/2 - 0s - loss: 0.0030 - 233ms/epoch - 117ms/step\n",
      "Epoch 62/300\n",
      "2/2 - 0s - loss: 0.0034 - 221ms/epoch - 111ms/step\n",
      "Epoch 63/300\n",
      "2/2 - 0s - loss: 0.0032 - 228ms/epoch - 114ms/step\n",
      "Epoch 64/300\n",
      "2/2 - 0s - loss: 0.0030 - 240ms/epoch - 120ms/step\n",
      "Epoch 65/300\n",
      "2/2 - 0s - loss: 0.0032 - 228ms/epoch - 114ms/step\n",
      "Epoch 66/300\n",
      "2/2 - 0s - loss: 0.0030 - 221ms/epoch - 110ms/step\n",
      "Epoch 67/300\n",
      "2/2 - 0s - loss: 0.0030 - 226ms/epoch - 113ms/step\n",
      "Epoch 68/300\n",
      "2/2 - 0s - loss: 0.0034 - 227ms/epoch - 113ms/step\n",
      "Epoch 69/300\n",
      "2/2 - 0s - loss: 0.0034 - 234ms/epoch - 117ms/step\n",
      "Epoch 70/300\n",
      "2/2 - 0s - loss: 0.0030 - 222ms/epoch - 111ms/step\n",
      "Epoch 71/300\n",
      "2/2 - 0s - loss: 0.0031 - 226ms/epoch - 113ms/step\n",
      "Epoch 72/300\n",
      "2/2 - 0s - loss: 0.0031 - 227ms/epoch - 113ms/step\n",
      "Epoch 73/300\n",
      "2/2 - 0s - loss: 0.0030 - 233ms/epoch - 116ms/step\n",
      "Epoch 74/300\n",
      "2/2 - 0s - loss: 0.0031 - 288ms/epoch - 144ms/step\n",
      "Epoch 75/300\n",
      "2/2 - 0s - loss: 0.0031 - 241ms/epoch - 120ms/step\n",
      "Epoch 76/300\n",
      "2/2 - 0s - loss: 0.0033 - 226ms/epoch - 113ms/step\n",
      "Epoch 77/300\n",
      "2/2 - 0s - loss: 0.0030 - 239ms/epoch - 120ms/step\n",
      "Epoch 78/300\n",
      "2/2 - 0s - loss: 0.0028 - 225ms/epoch - 112ms/step\n",
      "Epoch 79/300\n",
      "2/2 - 0s - loss: 0.0029 - 221ms/epoch - 110ms/step\n",
      "Epoch 80/300\n",
      "2/2 - 0s - loss: 0.0032 - 224ms/epoch - 112ms/step\n",
      "Epoch 81/300\n",
      "2/2 - 0s - loss: 0.0028 - 232ms/epoch - 116ms/step\n",
      "Epoch 82/300\n",
      "2/2 - 0s - loss: 0.0031 - 229ms/epoch - 114ms/step\n",
      "Epoch 83/300\n",
      "2/2 - 0s - loss: 0.0032 - 254ms/epoch - 127ms/step\n",
      "Epoch 84/300\n",
      "2/2 - 0s - loss: 0.0029 - 237ms/epoch - 119ms/step\n",
      "Epoch 85/300\n",
      "2/2 - 0s - loss: 0.0031 - 228ms/epoch - 114ms/step\n",
      "Epoch 86/300\n",
      "2/2 - 0s - loss: 0.0032 - 242ms/epoch - 121ms/step\n",
      "Epoch 87/300\n",
      "2/2 - 0s - loss: 0.0032 - 225ms/epoch - 112ms/step\n",
      "Epoch 88/300\n",
      "2/2 - 0s - loss: 0.0030 - 224ms/epoch - 112ms/step\n",
      "Epoch 89/300\n",
      "2/2 - 0s - loss: 0.0029 - 230ms/epoch - 115ms/step\n",
      "Epoch 90/300\n",
      "2/2 - 0s - loss: 0.0028 - 232ms/epoch - 116ms/step\n",
      "Epoch 91/300\n",
      "2/2 - 0s - loss: 0.0028 - 225ms/epoch - 113ms/step\n",
      "Epoch 92/300\n",
      "2/2 - 0s - loss: 0.0028 - 227ms/epoch - 113ms/step\n",
      "Epoch 93/300\n",
      "2/2 - 0s - loss: 0.0027 - 223ms/epoch - 111ms/step\n",
      "Epoch 94/300\n",
      "2/2 - 0s - loss: 0.0030 - 245ms/epoch - 122ms/step\n",
      "Epoch 95/300\n",
      "2/2 - 0s - loss: 0.0030 - 252ms/epoch - 126ms/step\n",
      "Epoch 96/300\n",
      "2/2 - 0s - loss: 0.0028 - 222ms/epoch - 111ms/step\n",
      "Epoch 97/300\n",
      "2/2 - 0s - loss: 0.0027 - 230ms/epoch - 115ms/step\n",
      "Epoch 98/300\n",
      "2/2 - 0s - loss: 0.0030 - 235ms/epoch - 117ms/step\n",
      "Epoch 99/300\n",
      "2/2 - 0s - loss: 0.0025 - 227ms/epoch - 114ms/step\n",
      "Epoch 100/300\n",
      "2/2 - 0s - loss: 0.0027 - 226ms/epoch - 113ms/step\n",
      "Epoch 101/300\n",
      "2/2 - 0s - loss: 0.0026 - 223ms/epoch - 112ms/step\n",
      "Epoch 102/300\n",
      "2/2 - 0s - loss: 0.0030 - 235ms/epoch - 117ms/step\n",
      "Epoch 103/300\n",
      "2/2 - 0s - loss: 0.0025 - 265ms/epoch - 132ms/step\n",
      "Epoch 104/300\n",
      "2/2 - 0s - loss: 0.0026 - 229ms/epoch - 114ms/step\n",
      "Epoch 105/300\n",
      "2/2 - 0s - loss: 0.0026 - 241ms/epoch - 120ms/step\n",
      "Epoch 106/300\n",
      "2/2 - 0s - loss: 0.0026 - 238ms/epoch - 119ms/step\n",
      "Epoch 107/300\n",
      "2/2 - 0s - loss: 0.0026 - 257ms/epoch - 128ms/step\n",
      "Epoch 108/300\n",
      "2/2 - 0s - loss: 0.0024 - 242ms/epoch - 121ms/step\n",
      "Epoch 109/300\n",
      "2/2 - 0s - loss: 0.0027 - 224ms/epoch - 112ms/step\n",
      "Epoch 110/300\n",
      "2/2 - 0s - loss: 0.0025 - 228ms/epoch - 114ms/step\n",
      "Epoch 111/300\n",
      "2/2 - 0s - loss: 0.0025 - 225ms/epoch - 112ms/step\n",
      "Epoch 112/300\n",
      "2/2 - 0s - loss: 0.0026 - 228ms/epoch - 114ms/step\n",
      "Epoch 113/300\n",
      "2/2 - 0s - loss: 0.0025 - 221ms/epoch - 111ms/step\n",
      "Epoch 114/300\n",
      "2/2 - 0s - loss: 0.0028 - 224ms/epoch - 112ms/step\n",
      "Epoch 115/300\n",
      "2/2 - 0s - loss: 0.0026 - 226ms/epoch - 113ms/step\n",
      "Epoch 116/300\n",
      "2/2 - 0s - loss: 0.0024 - 250ms/epoch - 125ms/step\n",
      "Epoch 117/300\n",
      "2/2 - 0s - loss: 0.0026 - 259ms/epoch - 129ms/step\n",
      "Epoch 118/300\n",
      "2/2 - 0s - loss: 0.0022 - 227ms/epoch - 114ms/step\n",
      "Epoch 119/300\n",
      "2/2 - 0s - loss: 0.0028 - 230ms/epoch - 115ms/step\n",
      "Epoch 120/300\n"
     ]
    }
   ],
   "source": [
    "model = Sequential([\n",
    "    LSTM(input_shape=(X_train.shape[1:]),units = 128,return_sequences=True),\n",
    "    Dropout(0.5),\n",
    "    LSTM(128,return_sequences=False),\n",
    "    Dropout(0.25),\n",
    "    Dense(units=1),\n",
    "    Activation('linear')\n",
    "    \n",
    "])\n",
    "model.compile(loss=\"mse\",optimizer=\"adam\")\n",
    "history = model.fit(\n",
    "    X_train,\n",
    "    y_train,\n",
    "    batch_size = batch_size,\n",
    "    epochs=n_epochs,\n",
    "    verbose=2\n",
    ")"
   ]
  },
  {
   "cell_type": "code",
   "execution_count": null,
   "metadata": {
    "tags": []
   },
   "outputs": [],
   "source": [
    "preds_val = model.predict(X_val)\n",
    "diff = []\n",
    "for i in range(len(y_val)):\n",
    "    pred = preds_val[i][0]\n",
    "    diff.append(y_val[i] - pred)"
   ]
  },
  {
   "cell_type": "code",
   "execution_count": null,
   "metadata": {
    "tags": []
   },
   "outputs": [],
   "source": [
    "real_min = preprocessor.data_min_[104]\n",
    "real_max = preprocessor.data_max_[104]\n",
    "print(preprocessor.data_min_[104])\n",
    "print(preprocessor.data_max_[104])\n",
    "\n",
    "preds_real = preds_val * (real_max - real_min) + real_min\n",
    "y_val_real = y_val * (real_max - real_min) + real_min"
   ]
  },
  {
   "cell_type": "code",
   "execution_count": null,
   "metadata": {
    "tags": []
   },
   "outputs": [],
   "source": [
    "plt.plot(preds_real, label='Predictions')\n",
    "plt.plot(y_val_real, label='Actual values')\n",
    "plt.xlabel('test')\n",
    "plt.legend(loc=0)\n",
    "plt.show()"
   ]
  }
 ],
 "metadata": {
  "kernelspec": {
   "display_name": "Python 3",
   "language": "python",
   "name": "python3"
  },
  "language_info": {
   "codemirror_mode": {
    "name": "ipython",
    "version": 3
   },
   "file_extension": ".py",
   "mimetype": "text/x-python",
   "name": "python",
   "nbconvert_exporter": "python",
   "pygments_lexer": "ipython3",
   "version": "3.9.16"
  },
  "vscode": {
   "interpreter": {
    "hash": "31f2aee4e71d21fbe5cf8b01ff0e069b9275f58929596ceb00d14d90e3e16cd6"
   }
  }
 },
 "nbformat": 4,
 "nbformat_minor": 4
}
