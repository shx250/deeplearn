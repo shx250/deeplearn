{
 "cells": [
  {
   "cell_type": "code",
   "execution_count": 8,
   "metadata": {},
   "outputs": [],
   "source": [
    "import numpy as np\n",
    "from matplotlib import pyplot as plt  \n",
    "from tensorflow import keras\n",
    "from keras.utils.np_utils import to_categorical  \n",
    "from keras.models import Sequential  \n",
    "from keras.layers.core import Dense,Dropout,Flatten  \n",
    "from keras.layers import Conv2D  \n",
    "from keras.optimizers import Adam  \n",
    "from keras.datasets import mnist  \n",
    "\n",
    "\n"
   ]
  },
  {
   "cell_type": "code",
   "execution_count": 10,
   "metadata": {},
   "outputs": [],
   "source": [
    "(X_train,y_train),(X_test,y_test) = mnist.load_data()\n",
    "img_rows,img_cols = X_train[0].shape[0],X_train[0].shape[1]\n",
    "X_train = X_train.reshape(X_train.shape[0],img_rows,img_cols,1)\n",
    "X_test = X_test.reshape(X_test.shape[0],img_rows,img_cols,1)\n",
    "input_shape = (img_rows,img_cols,1)\n",
    "\n",
    "X_train = X_train.astype('float32')/255.\n",
    "X_test= X_test.astype('float32')/255.\n",
    "\n",
    "n_classes =  len(set(y_train))\n",
    "y_train = to_categorical(y_train,n_classes)\n",
    "y_test = to_categorical(y_test,n_classes)"
   ]
  },
  {
   "cell_type": "code",
   "execution_count": 15,
   "metadata": {},
   "outputs": [
    {
     "name": "stdout",
     "output_type": "stream",
     "text": [
      "Epoch 1/11\n",
      "375/375 [==============================] - ETA: 0s - loss: 0.2162 - accuracy: 0.9338WARNING:tensorflow:Early stopping conditioned on metric `val_acc` which is not available. Available metrics are: loss,accuracy,val_loss,val_accuracy\n",
      "375/375 [==============================] - 380s 1s/step - loss: 0.2162 - accuracy: 0.9338 - val_loss: 0.0564 - val_accuracy: 0.9842\n",
      "Epoch 2/11\n",
      "375/375 [==============================] - ETA: 0s - loss: 0.0794 - accuracy: 0.9760WARNING:tensorflow:Early stopping conditioned on metric `val_acc` which is not available. Available metrics are: loss,accuracy,val_loss,val_accuracy\n",
      "375/375 [==============================] - 457s 1s/step - loss: 0.0794 - accuracy: 0.9760 - val_loss: 0.0406 - val_accuracy: 0.9883\n",
      "Epoch 3/11\n",
      "374/375 [============================>.] - ETA: 1s - loss: 0.0578 - accuracy: 0.9817"
     ]
    }
   ],
   "source": [
    "model = Sequential([\n",
    "    \n",
    "    Conv2D(32,kernel_size=(3,3),activation='relu',input_shape=input_shape),\n",
    "    Conv2D(64,kernel_size=(3,3),activation='relu'),\n",
    "    Conv2D(128,kernel_size=(3,3),activation='relu'),\n",
    "    Dropout(0.5),\n",
    "    Flatten(),\n",
    "    Dense(128,activation='relu'),\n",
    "    Dropout(0.5),\n",
    "    Dense(n_classes,activation='softmax')\n",
    "    \n",
    "\n",
    "])\n",
    "model.compile(loss='categorical_crossentropy',optimizer=Adam(),\n",
    "                  metrics=['accuracy'])\n",
    "callbacks = keras.callbacks.EarlyStopping(monitor='val_acc',patience=5)\n",
    "model.fit(X_train,y_train,batch_size=128,epochs=11,verbose=1,validation_split=0.2,\n",
    "          callbacks= callbacks )"
   ]
  },
  {
   "cell_type": "code",
   "execution_count": null,
   "metadata": {},
   "outputs": [],
   "source": [
    "score = model.evaluate(X_test)\n",
    "print('Test loss:',score[0])\n",
    "print('Test accuracy:',score)\n",
    "\n",
    "preds = model.predict(X_test)\n",
    "\n",
    "n_examples = 10\n",
    "plt.figure(figsize=(15,15))\n",
    "for i in range(n_examples):\n",
    "    ax = plt.subplot(2,n_examples,i+1)\n",
    "    plt.imshow(X_test[i,:,:,0],cmap='gray')\n",
    "    plt.title(\"Label:{}\\nPredicted:{}\".format(np.argmax(y_test[i]),np.argmax(preds[i]))\n",
    "    plt.axis('off')\n",
    "        )\n",
    "plt.show()"
   ]
  }
 ],
 "metadata": {
  "kernelspec": {
   "display_name": "tensorflow",
   "language": "python",
   "name": "python3"
  },
  "language_info": {
   "codemirror_mode": {
    "name": "ipython",
    "version": 3
   },
   "file_extension": ".py",
   "mimetype": "text/x-python",
   "name": "python",
   "nbconvert_exporter": "python",
   "pygments_lexer": "ipython3",
   "version": "3.9.16"
  },
  "orig_nbformat": 4
 },
 "nbformat": 4,
 "nbformat_minor": 2
}
